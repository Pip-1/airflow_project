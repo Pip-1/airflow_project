{
 "cells": [
  {
   "cell_type": "code",
   "execution_count": 1,
   "metadata": {},
   "outputs": [],
   "source": [
    "import pandas as pd\n",
    "import json\n",
    "from datetime import datetime\n",
    "import requests\n"
   ]
  },
  {
   "cell_type": "code",
   "execution_count": 11,
   "metadata": {},
   "outputs": [
    {
     "name": "stdout",
     "output_type": "stream",
     "text": [
      "September 20th is the day in 2011 that the United States ends its \"Don't Ask, Don't Tell\" policy, allowing gay men and women to serve openly for the first time.\n"
     ]
    }
   ],
   "source": [
    "today = datetime.today().strftime(\"%m/%d\")"
   ]
  },
  {
   "cell_type": "code",
   "execution_count": null,
   "metadata": {},
   "outputs": [],
   "source": [
    "\n",
    "response_numbersapi = requests.get(f\"http://numbersapi.com/{today}/date\")\n",
    "\n",
    "print(response_numbersapi.text)"
   ]
  },
  {
   "cell_type": "code",
   "execution_count": 16,
   "metadata": {},
   "outputs": [
    {
     "name": "stdout",
     "output_type": "stream",
     "text": [
      "Erfurt\n",
      "Germany\n",
      "2023-09-20 21:31\n",
      "18\n",
      "Clear\n"
     ]
    }
   ],
   "source": [
    "city = 'Erfurt'\n",
    "response_weather = requests.get(f\"http://api.weatherstack.com/current?access_key=2d90d10eae259b217aee8119adc6ae70&query={city}\")\n",
    "\n",
    "# Parse the JSON data\n",
    "current_weather_data_raw = json.loads(response_weather.text)\n",
    "\n",
    "city_name = current_weather_data_raw['location']['name']\n",
    "country = current_weather_data_raw['location']['country']\n",
    "local_time = current_weather_data_raw['location']['localtime']\n",
    "temperature = current_weather_data_raw['current']['temperature']\n",
    "weather_description = current_weather_data_raw['current']['weather_descriptions'][0]\n",
    "\n",
    "print(city_name)\n",
    "print(country)\n",
    "print(local_time)\n",
    "print(temperature)\n",
    "print(weather_description)"
   ]
  },
  {
   "cell_type": "code",
   "execution_count": null,
   "metadata": {},
   "outputs": [],
   "source": []
  }
 ],
 "metadata": {
  "kernelspec": {
   "display_name": "test_env",
   "language": "python",
   "name": "python3"
  },
  "language_info": {
   "codemirror_mode": {
    "name": "ipython",
    "version": 3
   },
   "file_extension": ".py",
   "mimetype": "text/x-python",
   "name": "python",
   "nbconvert_exporter": "python",
   "pygments_lexer": "ipython3",
   "version": "3.10.9"
  },
  "orig_nbformat": 4,
  "vscode": {
   "interpreter": {
    "hash": "0c6871c25633bfd1f9deb8a9a99816656b19a36e0b01255323f8cb501e9dc3d1"
   }
  }
 },
 "nbformat": 4,
 "nbformat_minor": 2
}
